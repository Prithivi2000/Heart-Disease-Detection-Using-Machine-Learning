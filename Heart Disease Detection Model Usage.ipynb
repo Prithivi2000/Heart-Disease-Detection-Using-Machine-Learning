{
 "cells": [
  {
   "cell_type": "markdown",
   "metadata": {},
   "source": [
    "## Usage Model"
   ]
  },
  {
   "cell_type": "code",
   "execution_count": 1,
   "metadata": {},
   "outputs": [],
   "source": [
    "from joblib import dump, load\n",
    "import numpy as np"
   ]
  },
  {
   "cell_type": "markdown",
   "metadata": {},
   "source": [
    "## Strictly Adviced To Read \"INFO ABOUT PREDICTION\" Article Before Giving The Values"
   ]
  },
  {
   "cell_type": "markdown",
   "metadata": {},
   "source": [
    "## For Giving the details in the right Format"
   ]
  },
  {
   "cell_type": "code",
   "execution_count": 2,
   "metadata": {},
   "outputs": [
    {
     "name": "stdout",
     "output_type": "stream",
     "text": [
      "Enter Patient's Details\n",
      "Patient Age:62\n",
      "Sex:1\n",
      "Chest Pain Type:4\n",
      "Resting blood pressure:158\n",
      "Serum cholestoral:170\n",
      "Fasting blood sugar:0\n",
      "Resting electrocardiographic results:1\n",
      "Maximum heart rate achieved:138\n",
      "Exercise induced angina:1\n",
      "ST depression induced by exercise relative to rest:0\n"
     ]
    }
   ],
   "source": [
    "# age, sex, cp, trestbps, chol, fbs, restecg, thalach, exang, oldpeak ,num\n",
    "print(\"Enter Patient's Details\")\n",
    "age = int(input(\"Patient Age:\"))\n",
    "sex = int(input(\"Sex:\"))\n",
    "cp = int(input(\"Chest Pain Type:\"))\n",
    "trestbps = int(input(\"Resting blood pressure:\"))\n",
    "chol = int(input(\"Serum cholestoral:\"))\n",
    "fbs = int(input(\"Fasting blood sugar:\"))\n",
    "restecg = int(input(\"Resting electrocardiographic results:\"))\n",
    "thalach = int(input(\"Maximum heart rate achieved:\"))\n",
    "exang = int(input(\"Exercise induced angina:\"))\n",
    "oldpeak = int(input(\"ST depression induced by exercise relative to rest:\"))\n"
   ]
  },
  {
   "cell_type": "markdown",
   "metadata": {},
   "source": [
    "## As it is a Prediciton Model...So if we consider the whole Dataset as 100%"
   ]
  },
  {
   "cell_type": "markdown",
   "metadata": {},
   "source": [
    "## Then Our Model may give 3-4% of error"
   ]
  },
  {
   "cell_type": "code",
   "execution_count": 3,
   "metadata": {},
   "outputs": [
    {
     "name": "stdout",
     "output_type": "stream",
     "text": [
      " <  50% diameter narrowing\n"
     ]
    }
   ],
   "source": [
    "## Though Model Accuracy is 100% ....But as it is a prediciton model...The Detection may give error of 3-4%\n",
    "model = load('Heart.joblib')\n",
    "features = np.array([ [age, sex, cp, trestbps, chol, fbs, restecg, thalach, exang, oldpeak]])## For giving these values first read \n",
    "                                                                                ##\"INFO ABOUT PREDICTION\" file\n",
    "detect = model.predict(features)\n",
    "if detect == [1.0]:\n",
    "    print(\" > 50% diameter narrowing\")\n",
    "elif detect == [0.0]:\n",
    "    print(\" <  50% diameter narrowing\")"
   ]
  },
  {
   "cell_type": "code",
   "execution_count": null,
   "metadata": {},
   "outputs": [],
   "source": []
  },
  {
   "cell_type": "code",
   "execution_count": null,
   "metadata": {},
   "outputs": [],
   "source": []
  }
 ],
 "metadata": {
  "kernelspec": {
   "display_name": "Python 3",
   "language": "python",
   "name": "python3"
  },
  "language_info": {
   "codemirror_mode": {
    "name": "ipython",
    "version": 3
   },
   "file_extension": ".py",
   "mimetype": "text/x-python",
   "name": "python",
   "nbconvert_exporter": "python",
   "pygments_lexer": "ipython3",
   "version": "3.7.6"
  }
 },
 "nbformat": 4,
 "nbformat_minor": 4
}
